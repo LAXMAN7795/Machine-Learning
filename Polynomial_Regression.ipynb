{
  "nbformat": 4,
  "nbformat_minor": 0,
  "metadata": {
    "colab": {
      "provenance": [],
      "authorship_tag": "ABX9TyPZhaM/D6NlY0MPhSLOxA/3",
      "include_colab_link": true
    },
    "kernelspec": {
      "name": "python3",
      "display_name": "Python 3"
    },
    "language_info": {
      "name": "python"
    }
  },
  "cells": [
    {
      "cell_type": "markdown",
      "metadata": {
        "id": "view-in-github",
        "colab_type": "text"
      },
      "source": [
        "<a href=\"https://colab.research.google.com/github/LAXMAN7795/Machine-Learning/blob/main/Polynomial_Regression.ipynb\" target=\"_parent\"><img src=\"https://colab.research.google.com/assets/colab-badge.svg\" alt=\"Open In Colab\"/></a>"
      ]
    },
    {
      "cell_type": "code",
      "execution_count": 2,
      "metadata": {
        "id": "dcHCX9G9pySp"
      },
      "outputs": [],
      "source": [
        "#import pandas,numpy,matplotlib,seaborn\n",
        "import pandas as pd\n",
        "import numpy as np\n",
        "import matplotlib.pyplot as plt\n",
        "import seaborn as sns\n",
        "%matplotlib inline"
      ]
    },
    {
      "cell_type": "code",
      "source": [
        "X = 6*np.random.rand(100,1)-3\n",
        "y = 0.5*X**2 + 1.5*X+2 +np.random.randn(100,1)\n",
        "plt.scatter(X,y,color='g')\n",
        "plt.xlabel('X data')\n",
        "plt.ylabel('y data')\n",
        "plt.show()"
      ],
      "metadata": {
        "colab": {
          "base_uri": "https://localhost:8080/",
          "height": 449
        },
        "id": "6sENc-Rxq4Fb",
        "outputId": "16903c86-586e-4155-d2bc-7fb6c171b80b"
      },
      "execution_count": 3,
      "outputs": [
        {
          "output_type": "display_data",
          "data": {
            "text/plain": [
              "<Figure size 640x480 with 1 Axes>"
            ],
            "image/png": "[encoded data removed]"
          },
          "metadata": {}
        }
      ]
    },
    {
      "cell_type": "code",
      "source": [
        "#train test split\n",
        "from sklearn.model_selection import train_test_split\n",
        "X_train,X_test,y_train,y_test = train_test_split(X,y,test_size=0.2,random_state=42)"
      ],
      "metadata": {
        "id": "bOWFoRMsrWJX"
      },
      "execution_count": 4,
      "outputs": []
    },
    {
      "cell_type": "code",
      "source": [
        "#Linear regression\n",
        "from sklearn.linear_model import LinearRegression\n",
        "lin_reg = LinearRegression()\n",
        "lin_reg.fit(X_train,y_train)"
      ],
      "metadata": {
        "colab": {
          "base_uri": "https://localhost:8080/",
          "height": 80
        },
        "id": "r4Dsu2pur5Wn",
        "outputId": "83092d51-3a89-48d3-c47a-c09af83c758e"
      },
      "execution_count": 5,
      "outputs": [
        {
          "output_type": "execute_result",
          "data": {
            "text/plain": [
              "LinearRegression()"
            ],
            "text/html": [
              "<style>#sk-container-id-1 {\n",
              "  /* Definition of color scheme common for light and dark mode */\n",
              "  --sklearn-color-text: #000;\n",
              "  --sklearn-color-text-muted: #666;\n",
              "  --sklearn-color-line: gray;\n",
              "  /* Definition of color scheme for unfitted estimators */\n",
              "  --sklearn-color-unfitted-level-0: #fff5e6;\n",
              "  --sklearn-color-unfitted-level-1: #f6e4d2;\n",
              "  --sklearn-color-unfitted-level-2: #ffe0b3;\n",
              "  --sklearn-color-unfitted-level-3: chocolate;\n",
              "  /* Definition of color scheme for fitted estimators */\n",
              "  --sklearn-color-fitted-level-0: #f0f8ff;\n",
              "  --sklearn-color-fitted-level-1: #d4ebff;\n",
              "  --sklearn-color-fitted-level-2: #b3dbfd;\n",
              "  --sklearn-color-fitted-level-3: cornflowerblue;\n",
              "\n",
              "  /* Specific color for light theme */\n",
              "  --sklearn-color-text-on-default-background: var(--sg-text-color, var(--theme-code-foreground, var(--jp-content-font-color1, black)));\n",
              "  --sklearn-color-background: var(--sg-background-color, var(--theme-background, var(--jp-layout-color0, white)));\n",
              "  --sklearn-color-border-box: var(--sg-text-color, var(--theme-code-foreground, var(--jp-content-font-color1, black)));\n",
              "  --sklearn-color-icon: #696969;\n",
              "\n",
              "  @media (prefers-color-scheme: dark) {\n",
              "    /* Redefinition of color scheme for dark theme */\n",
              "    --sklearn-color-text-on-default-background: var(--sg-text-color, var(--theme-code-foreground, var(--jp-content-font-color1, white)));\n",
              "    --sklearn-color-background: var(--sg-background-color, var(--theme-background, var(--jp-layout-color0, #111)));\n",
              "    --sklearn-color-border-box: var(--sg-text-color, var(--theme-code-foreground, var(--jp-content-font-color1, white)));\n",
              "    --sklearn-color-icon: #878787;\n",
              "  }\n",
              "}\n",
              "\n",
              "#sk-container-id-1 {\n",
              "  color: var(--sklearn-color-text);\n",
              "}\n",
              "\n",
              "#sk-container-id-1 pre {\n",
              "  padding: 0;\n",
              "}\n",
              "\n",
              "#sk-container-id-1 input.sk-hidden--visually {\n",
              "  border: 0;\n",
              "  clip: rect(1px 1px 1px 1px);\n",
              "  clip: rect(1px, 1px, 1px, 1px);\n",
              "  height: 1px;\n",
              "  margin: -1px;\n",
              "  overflow: hidden;\n",
              "  padding: 0;\n",
              "  position: absolute;\n",
              "  width: 1px;\n",
              "}\n",
              "\n",
              "#sk-container-id-1 div.sk-dashed-wrapped {\n",
              "  border: 1px dashed var(--sklearn-color-line);\n",
              "  margin: 0 0.4em 0.5em 0.4em;\n",
              "  box-sizing: border-box;\n",
              "  padding-bottom: 0.4em;\n",
              "  background-color: var(--sklearn-color-background);\n",
              "}\n",
              "\n",
              "#sk-container-id-1 div.sk-container {\n",
              "  /* jupyter's `normalize.less` sets `[hidden] { display: none; }`\n",
              "     but bootstrap.min.css set `[hidden] { display: none !important; }`\n",
              "     so we also need the `!important` here to be able to override the\n",
              "     default hidden behavior on the sphinx rendered scikit-learn.org.\n",
              "     See: https://github.com/scikit-learn/scikit-learn/issues/21755 */\n",
              "  display: inline-block !important;\n",
              "  position: relative;\n",
              "}\n",
              "\n",
              "#sk-container-id-1 div.sk-text-repr-fallback {\n",
              "  display: none;\n",
              "}\n",
              "\n",
              "div.sk-parallel-item,\n",
              "div.sk-serial,\n",
              "div.sk-item {\n",
              "  /* draw centered vertical line to link estimators */\n",
              "  background-image: linear-gradient(var(--sklearn-color-text-on-default-background), var(--sklearn-color-text-on-default-background));\n",
              "  background-size: 2px 100%;\n",
              "  background-repeat: no-repeat;\n",
              "  background-position: center center;\n",
              "}\n",
              "\n",
              "/* Parallel-specific style estimator block */\n",
              "\n",
              "#sk-container-id-1 div.sk-parallel-item::after {\n",
              "  content: \"\";\n",
              "  width: 100%;\n",
              "  border-bottom: 2px solid var(--sklearn-color-text-on-default-background);\n",
              "  flex-grow: 1;\n",
              "}\n",
              "\n",
              "#sk-container-id-1 div.sk-parallel {\n",
              "  display: flex;\n",
              "  align-items: stretch;\n",
              "  justify-content: center;\n",
              "  background-color: var(--sklearn-color-background);\n",
              "  position: relative;\n",
              "}\n",
              "\n",
              "#sk-container-id-1 div.sk-parallel-item {\n",
              "  display: flex;\n",
              "  flex-direction: column;\n",
              "}\n",
              "\n",
              "#sk-container-id-1 div.sk-parallel-item:first-child::after {\n",
              "  align-self: flex-end;\n",
              "  width: 50%;\n",
              "}\n",
              "\n",
              "#sk-container-id-1 div.sk-parallel-item:last-child::after {\n",
              "  align-self: flex-start;\n",
              "  width: 50%;\n",
              "}\n",
              "\n",
              "#sk-container-id-1 div.sk-parallel-item:only-child::after {\n",
              "  width: 0;\n",
              "}\n",
              "\n",
              "/* Serial-specific style estimator block */\n",
              "\n",
              "#sk-container-id-1 div.sk-serial {\n",
              "  display: flex;\n",
              "  flex-direction: column;\n",
              "  align-items: center;\n",
              "  background-color: var(--sklearn-color-background);\n",
              "  padding-right: 1em;\n",
              "  padding-left: 1em;\n",
              "}\n",
              "\n",
              "\n",
              "/* Toggleable style: style used for estimator/Pipeline/ColumnTransformer box that is\n",
              "clickable and can be expanded/collapsed.\n",
              "- Pipeline and ColumnTransformer use this feature and define the default style\n",
              "- Estimators will overwrite some part of the style using the `sk-estimator` class\n",
              "*/\n",
              "\n",
              "/* Pipeline and ColumnTransformer style (default) */\n",
              "\n",
              "#sk-container-id-1 div.sk-toggleable {\n",
              "  /* Default theme specific background. It is overwritten whether we have a\n",
              "  specific estimator or a Pipeline/ColumnTransformer */\n",
              "  background-color: var(--sklearn-color-background);\n",
              "}\n",
              "\n",
              "/* Toggleable label */\n",
              "#sk-container-id-1 label.sk-toggleable__label {\n",
              "  cursor: pointer;\n",
              "  display: flex;\n",
              "  width: 100%;\n",
              "  margin-bottom: 0;\n",
              "  padding: 0.5em;\n",
              "  box-sizing: border-box;\n",
              "  text-align: center;\n",
              "  align-items: start;\n",
              "  justify-content: space-between;\n",
              "  gap: 0.5em;\n",
              "}\n",
              "\n",
              "#sk-container-id-1 label.sk-toggleable__label .caption {\n",
              "  font-size: 0.6rem;\n",
              "  font-weight: lighter;\n",
              "  color: var(--sklearn-color-text-muted);\n",
              "}\n",
              "\n",
              "#sk-container-id-1 label.sk-toggleable__label-arrow:before {\n",
              "  /* Arrow on the left of the label */\n",
              "  content: \"▸\";\n",
              "  float: left;\n",
              "  margin-right: 0.25em;\n",
              "  color: var(--sklearn-color-icon);\n",
              "}\n",
              "\n",
              "#sk-container-id-1 label.sk-toggleable__label-arrow:hover:before {\n",
              "  color: var(--sklearn-color-text);\n",
              "}\n",
              "\n",
              "/* Toggleable content - dropdown */\n",
              "\n",
              "#sk-container-id-1 div.sk-toggleable__content {\n",
              "  max-height: 0;\n",
              "  max-width: 0;\n",
              "  overflow: hidden;\n",
              "  text-align: left;\n",
              "  /* unfitted */\n",
              "  background-color: var(--sklearn-color-unfitted-level-0);\n",
              "}\n",
              "\n",
              "#sk-container-id-1 div.sk-toggleable__content.fitted {\n",
              "  /* fitted */\n",
              "  background-color: var(--sklearn-color-fitted-level-0);\n",
              "}\n",
              "\n",
              "#sk-container-id-1 div.sk-toggleable__content pre {\n",
              "  margin: 0.2em;\n",
              "  border-radius: 0.25em;\n",
              "  color: var(--sklearn-color-text);\n",
              "  /* unfitted */\n",
              "  background-color: var(--sklearn-color-unfitted-level-0);\n",
              "}\n",
              "\n",
              "#sk-container-id-1 div.sk-toggleable__content.fitted pre {\n",
              "  /* unfitted */\n",
              "  background-color: var(--sklearn-color-fitted-level-0);\n",
              "}\n",
              "\n",
              "#sk-container-id-1 input.sk-toggleable__control:checked~div.sk-toggleable__content {\n",
              "  /* Expand drop-down */\n",
              "  max-height: 200px;\n",
              "  max-width: 100%;\n",
              "  overflow: auto;\n",
              "}\n",
              "\n",
              "#sk-container-id-1 input.sk-toggleable__control:checked~label.sk-toggleable__label-arrow:before {\n",
              "  content: \"▾\";\n",
              "}\n",
              "\n",
              "/* Pipeline/ColumnTransformer-specific style */\n",
              "\n",
              "#sk-container-id-1 div.sk-label input.sk-toggleable__control:checked~label.sk-toggleable__label {\n",
              "  color: var(--sklearn-color-text);\n",
              "  background-color: var(--sklearn-color-unfitted-level-2);\n",
              "}\n",
              "\n",
              "#sk-container-id-1 div.sk-label.fitted input.sk-toggleable__control:checked~label.sk-toggleable__label {\n",
              "  background-color: var(--sklearn-color-fitted-level-2);\n",
              "}\n",
              "\n",
              "/* Estimator-specific style */\n",
              "\n",
              "/* Colorize estimator box */\n",
              "#sk-container-id-1 div.sk-estimator input.sk-toggleable__control:checked~label.sk-toggleable__label {\n",
              "  /* unfitted */\n",
              "  background-color: var(--sklearn-color-unfitted-level-2);\n",
              "}\n",
              "\n",
              "#sk-container-id-1 div.sk-estimator.fitted input.sk-toggleable__control:checked~label.sk-toggleable__label {\n",
              "  /* fitted */\n",
              "  background-color: var(--sklearn-color-fitted-level-2);\n",
              "}\n",
              "\n",
              "#sk-container-id-1 div.sk-label label.sk-toggleable__label,\n",
              "#sk-container-id-1 div.sk-label label {\n",
              "  /* The background is the default theme color */\n",
              "  color: var(--sklearn-color-text-on-default-background);\n",
              "}\n",
              "\n",
              "/* On hover, darken the color of the background */\n",
              "#sk-container-id-1 div.sk-label:hover label.sk-toggleable__label {\n",
              "  color: var(--sklearn-color-text);\n",
              "  background-color: var(--sklearn-color-unfitted-level-2);\n",
              "}\n",
              "\n",
              "/* Label box, darken color on hover, fitted */\n",
              "#sk-container-id-1 div.sk-label.fitted:hover label.sk-toggleable__label.fitted {\n",
              "  color: var(--sklearn-color-text);\n",
              "  background-color: var(--sklearn-color-fitted-level-2);\n",
              "}\n",
              "\n",
              "/* Estimator label */\n",
              "\n",
              "#sk-container-id-1 div.sk-label label {\n",
              "  font-family: monospace;\n",
              "  font-weight: bold;\n",
              "  display: inline-block;\n",
              "  line-height: 1.2em;\n",
              "}\n",
              "\n",
              "#sk-container-id-1 div.sk-label-container {\n",
              "  text-align: center;\n",
              "}\n",
              "\n",
              "/* Estimator-specific */\n",
              "#sk-container-id-1 div.sk-estimator {\n",
              "  font-family: monospace;\n",
              "  border: 1px dotted var(--sklearn-color-border-box);\n",
              "  border-radius: 0.25em;\n",
              "  box-sizing: border-box;\n",
              "  margin-bottom: 0.5em;\n",
              "  /* unfitted */\n",
              "  background-color: var(--sklearn-color-unfitted-level-0);\n",
              "}\n",
              "\n",
              "#sk-container-id-1 div.sk-estimator.fitted {\n",
              "  /* fitted */\n",
              "  background-color: var(--sklearn-color-fitted-level-0);\n",
              "}\n",
              "\n",
              "/* on hover */\n",
              "#sk-container-id-1 div.sk-estimator:hover {\n",
              "  /* unfitted */\n",
              "  background-color: var(--sklearn-color-unfitted-level-2);\n",
              "}\n",
              "\n",
              "#sk-container-id-1 div.sk-estimator.fitted:hover {\n",
              "  /* fitted */\n",
              "  background-color: var(--sklearn-color-fitted-level-2);\n",
              "}\n",
              "\n",
              "/* Specification for estimator info (e.g. \"i\" and \"?\") */\n",
              "\n",
              "/* Common style for \"i\" and \"?\" */\n",
              "\n",
              ".sk-estimator-doc-link,\n",
              "a:link.sk-estimator-doc-link,\n",
              "a:visited.sk-estimator-doc-link {\n",
              "  float: right;\n",
              "  font-size: smaller;\n",
              "  line-height: 1em;\n",
              "  font-family: monospace;\n",
              "  background-color: var(--sklearn-color-background);\n",
              "  border-radius: 1em;\n",
              "  height: 1em;\n",
              "  width: 1em;\n",
              "  text-decoration: none !important;\n",
              "  margin-left: 0.5em;\n",
              "  text-align: center;\n",
              "  /* unfitted */\n",
              "  border: var(--sklearn-color-unfitted-level-1) 1pt solid;\n",
              "  color: var(--sklearn-color-unfitted-level-1);\n",
              "}\n",
              "\n",
              ".sk-estimator-doc-link.fitted,\n",
              "a:link.sk-estimator-doc-link.fitted,\n",
              "a:visited.sk-estimator-doc-link.fitted {\n",
              "  /* fitted */\n",
              "  border: var(--sklearn-color-fitted-level-1) 1pt solid;\n",
              "  color: var(--sklearn-color-fitted-level-1);\n",
              "}\n",
              "\n",
              "/* On hover */\n",
              "div.sk-estimator:hover .sk-estimator-doc-link:hover,\n",
              ".sk-estimator-doc-link:hover,\n",
              "div.sk-label-container:hover .sk-estimator-doc-link:hover,\n",
              ".sk-estimator-doc-link:hover {\n",
              "  /* unfitted */\n",
              "  background-color: var(--sklearn-color-unfitted-level-3);\n",
              "  color: var(--sklearn-color-background);\n",
              "  text-decoration: none;\n",
              "}\n",
              "\n",
              "div.sk-estimator.fitted:hover .sk-estimator-doc-link.fitted:hover,\n",
              ".sk-estimator-doc-link.fitted:hover,\n",
              "div.sk-label-container:hover .sk-estimator-doc-link.fitted:hover,\n",
              ".sk-estimator-doc-link.fitted:hover {\n",
              "  /* fitted */\n",
              "  background-color: var(--sklearn-color-fitted-level-3);\n",
              "  color: var(--sklearn-color-background);\n",
              "  text-decoration: none;\n",
              "}\n",
              "\n",
              "/* Span, style for the box shown on hovering the info icon */\n",
              ".sk-estimator-doc-link span {\n",
              "  display: none;\n",
              "  z-index: 9999;\n",
              "  position: relative;\n",
              "  font-weight: normal;\n",
              "  right: .2ex;\n",
              "  padding: .5ex;\n",
              "  margin: .5ex;\n",
              "  width: min-content;\n",
              "  min-width: 20ex;\n",
              "  max-width: 50ex;\n",
              "  color: var(--sklearn-color-text);\n",
              "  box-shadow: 2pt 2pt 4pt #999;\n",
              "  /* unfitted */\n",
              "  background: var(--sklearn-color-unfitted-level-0);\n",
              "  border: .5pt solid var(--sklearn-color-unfitted-level-3);\n",
              "}\n",
              "\n",
              ".sk-estimator-doc-link.fitted span {\n",
              "  /* fitted */\n",
              "  background: var(--sklearn-color-fitted-level-0);\n",
              "  border: var(--sklearn-color-fitted-level-3);\n",
              "}\n",
              "\n",
              ".sk-estimator-doc-link:hover span {\n",
              "  display: block;\n",
              "}\n",
              "\n",
              "/* \"?\"-specific style due to the `<a>` HTML tag */\n",
              "\n",
              "#sk-container-id-1 a.estimator_doc_link {\n",
              "  float: right;\n",
              "  font-size: 1rem;\n",
              "  line-height: 1em;\n",
              "  font-family: monospace;\n",
              "  background-color: var(--sklearn-color-background);\n",
              "  border-radius: 1rem;\n",
              "  height: 1rem;\n",
              "  width: 1rem;\n",
              "  text-decoration: none;\n",
              "  /* unfitted */\n",
              "  color: var(--sklearn-color-unfitted-level-1);\n",
              "  border: var(--sklearn-color-unfitted-level-1) 1pt solid;\n",
              "}\n",
              "\n",
              "#sk-container-id-1 a.estimator_doc_link.fitted {\n",
              "  /* fitted */\n",
              "  border: var(--sklearn-color-fitted-level-1) 1pt solid;\n",
              "  color: var(--sklearn-color-fitted-level-1);\n",
              "}\n",
              "\n",
              "/* On hover */\n",
              "#sk-container-id-1 a.estimator_doc_link:hover {\n",
              "  /* unfitted */\n",
              "  background-color: var(--sklearn-color-unfitted-level-3);\n",
              "  color: var(--sklearn-color-background);\n",
              "  text-decoration: none;\n",
              "}\n",
              "\n",
              "#sk-container-id-1 a.estimator_doc_link.fitted:hover {\n",
              "  /* fitted */\n",
              "  background-color: var(--sklearn-color-fitted-level-3);\n",
              "}\n",
              "</style><div id=\"sk-container-id-1\" class=\"sk-top-container\"><div class=\"sk-text-repr-fallback\"><pre>LinearRegression()</pre><b>In a Jupyter environment, please rerun this cell to show the HTML representation or trust the notebook. <br />On GitHub, the HTML representation is unable to render, please try loading this page with nbviewer.org.</b></div><div class=\"sk-container\" hidden><div class=\"sk-item\"><div class=\"sk-estimator fitted sk-toggleable\"><input class=\"sk-toggleable__control sk-hidden--visually\" id=\"sk-estimator-id-1\" type=\"checkbox\" checked><label for=\"sk-estimator-id-1\" class=\"sk-toggleable__label fitted sk-toggleable__label-arrow\"><div><div>LinearRegression</div></div><div><a class=\"sk-estimator-doc-link fitted\" rel=\"noreferrer\" target=\"_blank\" href=\"https://scikit-learn.org/1.6/modules/generated/sklearn.linear_model.LinearRegression.html\">?<span>Documentation for LinearRegression</span></a><span class=\"sk-estimator-doc-link fitted\">i<span>Fitted</span></span></div></label><div class=\"sk-toggleable__content fitted\"><pre>LinearRegression()</pre></div> </div></div></div></div>"
            ]
          },
          "metadata": {},
          "execution_count": 5
        }
      ]
    },
    {
      "cell_type": "code",
      "source": [
        "#prdiction\n",
        "y_pred = lin_reg.predict(X_test)"
      ],
      "metadata": {
        "id": "KFDuYW2PsP-O"
      },
      "execution_count": 6,
      "outputs": []
    },
    {
      "cell_type": "code",
      "source": [
        "#r2 score\n",
        "from sklearn.metrics import r2_score\n",
        "r2_score(y_test,y_pred)"
      ],
      "metadata": {
        "colab": {
          "base_uri": "https://localhost:8080/"
        },
        "id": "A0PO0rRosnYi",
        "outputId": "77cd71ab-4410-4dd2-f04f-532f7bc06092"
      },
      "execution_count": 7,
      "outputs": [
        {
          "output_type": "execute_result",
          "data": {
            "text/plain": [
              "0.7891655640296238"
            ]
          },
          "metadata": {},
          "execution_count": 7
        }
      ]
    },
    {
      "cell_type": "code",
      "source": [
        "plt.plot(X_test,y_pred,color='r')\n",
        "plt.scatter(X_train,y_train,color='g')\n",
        "plt.xlabel('X test data')\n",
        "plt.ylabel('y test data')\n",
        "plt.show()"
      ],
      "metadata": {
        "colab": {
          "base_uri": "https://localhost:8080/",
          "height": 449
        },
        "id": "Pq9HeM4Dsv9P",
        "outputId": "f889a239-f29d-42ae-8996-75667e112d79"
      },
      "execution_count": 8,
      "outputs": [
        {
          "output_type": "display_data",
          "data": {
            "text/plain": [
              "<Figure size 640x480 with 1 Axes>"
            ],
            "image/png": "[encoded data removed]"
          },
          "metadata": {}
        }
      ]
    },
    {
      "cell_type": "code",
      "source": [
        "#apply polynomial transformation\n",
        "from sklearn.preprocessing import PolynomialFeatures\n",
        "poly_reg = PolynomialFeatures(degree=2,include_bias=True)\n",
        "X_trainPoly = poly_reg.fit_transform(X_train)\n",
        "X_testPoly = poly_reg.transform(X_test)"
      ],
      "metadata": {
        "id": "Gt64ZUTUtboh"
      },
      "execution_count": 9,
      "outputs": []
    },
    {
      "cell_type": "code",
      "source": [
        "X_trainPoly#it gives the bias  x1 and x1^2"
      ],
      "metadata": {
        "colab": {
          "base_uri": "https://localhost:8080/"
        },
        "id": "KrV7uZ6nvvtW",
        "outputId": "759e52e5-7b3e-4d36-940e-f337f252e622"
      },
      "execution_count": 10,
      "outputs": [
        {
          "output_type": "execute_result",
          "data": {
            "text/plain": [
              "array([[ 1.00000000e+00,  1.21149017e+00,  1.46770844e+00],\n",
              "       [ 1.00000000e+00, -8.40437947e-02,  7.06335943e-03],\n",
              "       [ 1.00000000e+00,  3.36143399e-01,  1.12992385e-01],\n",
              "       [ 1.00000000e+00,  9.10224981e-01,  8.28509517e-01],\n",
              "       [ 1.00000000e+00,  1.60467220e+00,  2.57497287e+00],\n",
              "       [ 1.00000000e+00, -1.16087165e-01,  1.34762298e-02],\n",
              "       [ 1.00000000e+00, -4.40218547e-01,  1.93792369e-01],\n",
              "       [ 1.00000000e+00,  2.18827041e+00,  4.78852740e+00],\n",
              "       [ 1.00000000e+00, -2.04486343e+00,  4.18146646e+00],\n",
              "       [ 1.00000000e+00,  1.62088591e+00,  2.62727113e+00],\n",
              "       [ 1.00000000e+00,  2.58615735e+00,  6.68820984e+00],\n",
              "       [ 1.00000000e+00, -2.83138291e+00,  8.01672917e+00],\n",
              "       [ 1.00000000e+00,  5.48787796e-01,  3.01168045e-01],\n",
              "       [ 1.00000000e+00,  2.38889770e+00,  5.70683221e+00],\n",
              "       [ 1.00000000e+00,  3.78285837e-01,  1.43100174e-01],\n",
              "       [ 1.00000000e+00,  2.40692790e+00,  5.79330192e+00],\n",
              "       [ 1.00000000e+00, -1.38120601e-01,  1.90773005e-02],\n",
              "       [ 1.00000000e+00,  1.89773866e+00,  3.60141201e+00],\n",
              "       [ 1.00000000e+00,  1.75272929e+00,  3.07205995e+00],\n",
              "       [ 1.00000000e+00, -1.72452191e-01,  2.97397582e-02],\n",
              "       [ 1.00000000e+00, -2.22709092e+00,  4.95993398e+00],\n",
              "       [ 1.00000000e+00,  2.22899984e+00,  4.96844028e+00],\n",
              "       [ 1.00000000e+00, -2.02293836e+00,  4.09227959e+00],\n",
              "       [ 1.00000000e+00, -6.66358523e-01,  4.44033681e-01],\n",
              "       [ 1.00000000e+00,  1.56837145e+00,  2.45978902e+00],\n",
              "       [ 1.00000000e+00, -2.64377749e+00,  6.98955940e+00],\n",
              "       [ 1.00000000e+00,  1.71384477e+00,  2.93726390e+00],\n",
              "       [ 1.00000000e+00,  2.95023394e+00,  8.70388029e+00],\n",
              "       [ 1.00000000e+00,  1.57417604e+00,  2.47803021e+00],\n",
              "       [ 1.00000000e+00, -2.65269952e+00,  7.03681476e+00],\n",
              "       [ 1.00000000e+00,  1.59560294e+00,  2.54594875e+00],\n",
              "       [ 1.00000000e+00,  2.80143577e+00,  7.84804238e+00],\n",
              "       [ 1.00000000e+00, -8.36353944e-01,  6.99487919e-01],\n",
              "       [ 1.00000000e+00,  3.80941850e-01,  1.45116693e-01],\n",
              "       [ 1.00000000e+00, -2.43026729e-02,  5.90619912e-04],\n",
              "       [ 1.00000000e+00, -2.42947895e+00,  5.90236797e+00],\n",
              "       [ 1.00000000e+00,  1.29892427e+00,  1.68720427e+00],\n",
              "       [ 1.00000000e+00,  2.66199171e+00,  7.08619988e+00],\n",
              "       [ 1.00000000e+00, -2.08264701e+00,  4.33741858e+00],\n",
              "       [ 1.00000000e+00, -2.87834310e+00,  8.28485900e+00],\n",
              "       [ 1.00000000e+00, -3.93068880e-01,  1.54503145e-01],\n",
              "       [ 1.00000000e+00,  4.50876666e-01,  2.03289768e-01],\n",
              "       [ 1.00000000e+00,  2.21975933e+00,  4.92733147e+00],\n",
              "       [ 1.00000000e+00,  7.26581385e-01,  5.27920510e-01],\n",
              "       [ 1.00000000e+00, -1.99268528e-01,  3.97079462e-02],\n",
              "       [ 1.00000000e+00,  2.94382270e+00,  8.66609209e+00],\n",
              "       [ 1.00000000e+00, -1.32819345e+00,  1.76409783e+00],\n",
              "       [ 1.00000000e+00, -1.76372387e+00,  3.11072188e+00],\n",
              "       [ 1.00000000e+00,  1.62919856e+00,  2.65428794e+00],\n",
              "       [ 1.00000000e+00, -2.93562552e+00,  8.61789722e+00],\n",
              "       [ 1.00000000e+00, -1.76590359e+00,  3.11841549e+00],\n",
              "       [ 1.00000000e+00,  1.90036326e+00,  3.61138051e+00],\n",
              "       [ 1.00000000e+00, -1.78465996e-01,  3.18501117e-02],\n",
              "       [ 1.00000000e+00, -1.45618699e+00,  2.12048056e+00],\n",
              "       [ 1.00000000e+00,  2.54363669e+00,  6.47008759e+00],\n",
              "       [ 1.00000000e+00,  9.38084374e-02,  8.80002293e-03],\n",
              "       [ 1.00000000e+00,  2.45748540e+00,  6.03923447e+00],\n",
              "       [ 1.00000000e+00, -1.33062165e+00,  1.77055399e+00],\n",
              "       [ 1.00000000e+00, -2.79531908e+00,  7.81380877e+00],\n",
              "       [ 1.00000000e+00, -1.28738426e+00,  1.65735823e+00],\n",
              "       [ 1.00000000e+00, -8.54921471e-01,  7.30890722e-01],\n",
              "       [ 1.00000000e+00, -2.60762946e+00,  6.79973139e+00],\n",
              "       [ 1.00000000e+00,  1.01209176e+00,  1.02432973e+00],\n",
              "       [ 1.00000000e+00, -2.05517244e+00,  4.22373377e+00],\n",
              "       [ 1.00000000e+00,  2.98464814e-01,  8.90812449e-02],\n",
              "       [ 1.00000000e+00,  4.59763680e-01,  2.11382641e-01],\n",
              "       [ 1.00000000e+00,  2.49372398e+00,  6.21865927e+00],\n",
              "       [ 1.00000000e+00, -2.78083572e-01,  7.73304729e-02],\n",
              "       [ 1.00000000e+00, -3.30754955e-01,  1.09398840e-01],\n",
              "       [ 1.00000000e+00, -9.62573487e-01,  9.26547717e-01],\n",
              "       [ 1.00000000e+00,  6.27345122e-01,  3.93561902e-01],\n",
              "       [ 1.00000000e+00,  3.62580385e-01,  1.31464536e-01],\n",
              "       [ 1.00000000e+00,  6.72317912e-01,  4.52011375e-01],\n",
              "       [ 1.00000000e+00,  2.98113154e+00,  8.88714527e+00],\n",
              "       [ 1.00000000e+00,  1.45960162e+00,  2.13043690e+00],\n",
              "       [ 1.00000000e+00,  3.27552953e-01,  1.07290937e-01],\n",
              "       [ 1.00000000e+00, -2.81236915e+00,  7.90942021e+00],\n",
              "       [ 1.00000000e+00,  1.70798682e+00,  2.91721896e+00],\n",
              "       [ 1.00000000e+00,  2.19849501e+00,  4.83338032e+00],\n",
              "       [ 1.00000000e+00, -7.43367423e-01,  5.52595125e-01]])"
            ]
          },
          "metadata": {},
          "execution_count": 10
        }
      ]
    },
    {
      "cell_type": "code",
      "source": [
        "X_testPoly"
      ],
      "metadata": {
        "colab": {
          "base_uri": "https://localhost:8080/"
        },
        "id": "9SCbCC7kv68n",
        "outputId": "21bd3f0a-f398-4008-c312-b25d0e916bc7"
      },
      "execution_count": 11,
      "outputs": [
        {
          "output_type": "execute_result",
          "data": {
            "text/plain": [
              "array([[ 1.        ,  2.06729891,  4.27372479],\n",
              "       [ 1.        ,  0.9693863 ,  0.9397098 ],\n",
              "       [ 1.        ,  0.84575096,  0.71529468],\n",
              "       [ 1.        , -2.50302153,  6.26511677],\n",
              "       [ 1.        , -1.91784851,  3.67814291],\n",
              "       [ 1.        , -0.62953789,  0.39631795],\n",
              "       [ 1.        ,  2.1033916 ,  4.4242562 ],\n",
              "       [ 1.        ,  1.93329424,  3.73762663],\n",
              "       [ 1.        ,  0.97393089,  0.94854139],\n",
              "       [ 1.        , -0.29941094,  0.08964691],\n",
              "       [ 1.        ,  1.90647334,  3.6346406 ],\n",
              "       [ 1.        ,  1.8857908 ,  3.55620694],\n",
              "       [ 1.        ,  2.88314053,  8.31249934],\n",
              "       [ 1.        ,  2.96572303,  8.79551307],\n",
              "       [ 1.        ,  2.99483636,  8.96904482],\n",
              "       [ 1.        ,  2.75365303,  7.58260502],\n",
              "       [ 1.        ,  2.19723655,  4.82784846],\n",
              "       [ 1.        ,  2.92841596,  8.57562001],\n",
              "       [ 1.        ,  1.03013021,  1.06116826],\n",
              "       [ 1.        ,  2.3760174 ,  5.6454587 ]])"
            ]
          },
          "metadata": {},
          "execution_count": 11
        }
      ]
    },
    {
      "cell_type": "code",
      "source": [
        "from sklearn.linear_model import LinearRegression\n",
        "lin_reg = LinearRegression()\n",
        "lin_reg.fit(X_trainPoly,y_train)\n",
        "y_pred = lin_reg.predict(X_testPoly)\n",
        "score=r2_score(y_test,y_pred)\n",
        "print(score)"
      ],
      "metadata": {
        "colab": {
          "base_uri": "https://localhost:8080/"
        },
        "id": "K5GypvNuxU-g",
        "outputId": "7e120498-4dce-4957-d691-21a24045a29f"
      },
      "execution_count": 12,
      "outputs": [
        {
          "output_type": "stream",
          "name": "stdout",
          "text": [
            "0.8778820090794152\n"
          ]
        }
      ]
    },
    {
      "cell_type": "code",
      "source": [
        "print(lin_reg.coef_)"
      ],
      "metadata": {
        "colab": {
          "base_uri": "https://localhost:8080/"
        },
        "id": "6f9GNMPqxzTM",
        "outputId": "6eca819f-364f-4193-d1af-16141beb4c0e"
      },
      "execution_count": 13,
      "outputs": [
        {
          "output_type": "stream",
          "name": "stdout",
          "text": [
            "[[0.         1.63535186 0.48049693]]\n"
          ]
        }
      ]
    },
    {
      "cell_type": "code",
      "source": [
        "print(lin_reg.intercept_)"
      ],
      "metadata": {
        "colab": {
          "base_uri": "https://localhost:8080/"
        },
        "id": "j8Zs1V4Kx7Xv",
        "outputId": "a5e940c4-0549-48f1-c73b-58f1e0573192"
      },
      "execution_count": 14,
      "outputs": [
        {
          "output_type": "stream",
          "name": "stdout",
          "text": [
            "[2.078145]\n"
          ]
        }
      ]
    },
    {
      "cell_type": "code",
      "source": [
        "plt.scatter(X_train,lin_reg.predict(X_trainPoly),color='r')\n",
        "plt.scatter(X_train,y_train,color='g')\n",
        "plt.xlabel('X train data')\n",
        "plt.ylabel('y train data')\n",
        "plt.show()"
      ],
      "metadata": {
        "colab": {
          "base_uri": "https://localhost:8080/",
          "height": 449
        },
        "id": "_RwXn1lAx9JI",
        "outputId": "ebc3296d-efeb-48ec-a0c9-8e8a0c32a129"
      },
      "execution_count": null,
      "outputs": [
        {
          "output_type": "display_data",
          "data": {
            "text/plain": [
              "<Figure size 640x480 with 1 Axes>"
            ],
            "image/png": "[encoded data removed]"
          },
          "metadata": {}
        }
      ]
    },
    {
      "cell_type": "code",
      "source": [
        "#Prediction of new dataset\n",
        "X_new = np.linspace(-3,3,100).reshape(100,1)\n",
        "X_newPoly = poly_reg.transform(X_new)\n",
        "y_new = lin_reg.predict(X_newPoly)"
      ],
      "metadata": {
        "id": "70rf0WZKySlH"
      },
      "execution_count": 19,
      "outputs": []
    },
    {
      "cell_type": "code",
      "source": [
        "plt.scatter(X_new,y_new,color='r')\n",
        "plt.scatter(X_train,y_train,color='g')\n",
        "plt.xlabel('X train data')\n",
        "plt.ylabel('y train data')\n",
        "plt.show()"
      ],
      "metadata": {
        "colab": {
          "base_uri": "https://localhost:8080/",
          "height": 449
        },
        "id": "RwH8sxOqLEDy",
        "outputId": "3a1c3627-4d57-4c44-bf33-9ff445ffc0e9"
      },
      "execution_count": 20,
      "outputs": [
        {
          "output_type": "display_data",
          "data": {
            "text/plain": [
              "<Figure size 640x480 with 1 Axes>"
            ],
            "image/png": "[encoded data removed]"
          },
          "metadata": {}
        }
      ]
    },
    {
      "cell_type": "code",
      "source": [
        "from sklearn.pipeline import Pipeline"
      ],
      "metadata": {
        "id": "gwGAXx8mOxbJ"
      },
      "execution_count": 21,
      "outputs": []
    },
    {
      "cell_type": "code",
      "source": [
        "def poly_regression(degree):\n",
        "    X_new = np.linspace(-3, 3, 200).reshape(200, 1)\n",
        "\n",
        "    poly_features=PolynomialFeatures(degree=degree,include_bias=True)\n",
        "    lin_reg=LinearRegression()\n",
        "    poly_regression=Pipeline([\n",
        "        (\"poly_features\",poly_features),\n",
        "        (\"lin_reg\",lin_reg)\n",
        "    ])\n",
        "    poly_regression.fit(X_train,y_train) ## ploynomial and fit of linear reression\n",
        "    y_pred_new=poly_regression.predict(X_new)\n",
        "    #plotting prediction line\n",
        "    plt.plot(X_new, y_pred_new,'r', label=\"Degree \" + str(degree), linewidth=2)\n",
        "    plt.plot(X_train, y_train, \"b.\", linewidth=3)\n",
        "    plt.plot(X_test, y_test, \"g.\", linewidth=3)\n",
        "    plt.legend(loc=\"upper left\")\n",
        "    plt.xlabel(\"X\")\n",
        "    plt.ylabel(\"y\")\n",
        "    plt.axis([-4,4, 0, 10])\n",
        "    plt.show()\n",
        ""
      ],
      "metadata": {
        "id": "CVnuBEWyOy7p"
      },
      "execution_count": 22,
      "outputs": []
    },
    {
      "cell_type": "code",
      "source": [
        "poly_regression(6)"
      ],
      "metadata": {
        "colab": {
          "base_uri": "https://localhost:8080/",
          "height": 455
        },
        "id": "8lrlBAN-PHdf",
        "outputId": "1b87b919-3479-4ba3-e276-ad53390b1eb6"
      },
      "execution_count": 23,
      "outputs": [
        {
          "output_type": "display_data",
          "data": {
            "text/plain": [
              "<Figure size 640x480 with 1 Axes>"
            ],
            "image/png": "[encoded data removed]"
          },
          "metadata": {}
        }
      ]
    }
  ]
}